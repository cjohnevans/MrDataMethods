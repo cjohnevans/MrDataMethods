{
 "cells": [
  {
   "cell_type": "code",
   "execution_count": null,
   "id": "5aa87a0d",
   "metadata": {
    "collapsed": true
   },
   "outputs": [],
   "source": [
    "#  notebook to run the phase sensitive ir recon.  This one runs out of memory too."
   ]
  },
  {
   "cell_type": "code",
   "execution_count": 1,
   "id": "878e17b0",
   "metadata": {},
   "outputs": [],
   "source": [
    "import sys\n",
    "import os"
   ]
  },
  {
   "cell_type": "code",
   "execution_count": null,
   "id": "c4bd286f",
   "metadata": {
    "collapsed": true
   },
   "outputs": [],
   "source": [
    "# betelgeuse\n",
    "sys.path.append('/home/john/code/PSIRprocSiemens/')\n",
    "import PSIRprocSiemens\n",
    "mag_dir = '/home/john/cubric/data/7TMPRAGE/22_10_28-11_18_31-DST-1_3_12_2_1107_5_2_34_18984/scans/44-MP2RAGE_UK7T_081018_tfl_wip944_b17stx_RR_UniformSens_MAG/resources/DICOM/files'\n",
    "phs_dir = '/home/john/cubric/data/7TMPRAGE/22_10_28-11_18_31-DST-1_3_12_2_1107_5_2_34_18984/scans/45-MP2RAGE_UK7T_081018_tfl_wip944_b17stx_RR_UniformSens_PHS/resources/DICOM/files'"
   ]
  },
  {
   "cell_type": "code",
   "execution_count": 2,
   "id": "af7fc960",
   "metadata": {},
   "outputs": [],
   "source": [
    "# wl026\n",
    "sys.path.append('/home/sapje1/code/PSIRprocSiemens/')\n",
    "import PSIRprocSiemens\n",
    "mag_dir = '/home/sapje1/scratch_sapje1/projects/476_bbbcov/temp_psir_test/22_10_17-11_23_37-DST-1_3_12_2_1107_5_2_34_18984/scans/43-MP2RAGE_UK7T_081018_tfl_wip944_b17stx_RR_UniformSens_MAG/resources/DICOM/files'\n",
    "phs_dir = '/home/sapje1/scratch_sapje1/projects/476_bbbcov/temp_psir_test/22_10_17-11_23_37-DST-1_3_12_2_1107_5_2_34_18984/scans/44-MP2RAGE_UK7T_081018_tfl_wip944_b17stx_RR_UniformSens_PHS/resources/DICOM/files'"
   ]
  },
  {
   "cell_type": "code",
   "execution_count": 4,
   "id": "e609acb5",
   "metadata": {
    "collapsed": true
   },
   "outputs": [],
   "source": [
    "mag_fname = os.path.join(mag_dir, 'mag.nii.gz')\n",
    "phs_fname = os.path.join(phs_dir, 'phs.nii.gz')"
   ]
  },
  {
   "cell_type": "code",
   "execution_count": null,
   "id": "c7ab1ead",
   "metadata": {
    "collapsed": true
   },
   "outputs": [],
   "source": [
    "PSIRprocSiemens.PSIRprocSiemens(mag_fname, phs_fname, '/home/john/psir')"
   ]
  },
  {
   "cell_type": "code",
   "execution_count": null,
   "id": "98d4b11c",
   "metadata": {
    "collapsed": true
   },
   "outputs": [],
   "source": []
  }
 ],
 "metadata": {
  "kernelspec": {
   "display_name": "Python 3 (ipykernel)",
   "language": "python",
   "name": "python3"
  },
  "language_info": {
   "codemirror_mode": {
    "name": "ipython",
    "version": 3
   },
   "file_extension": ".py",
   "mimetype": "text/x-python",
   "name": "python",
   "nbconvert_exporter": "python",
   "pygments_lexer": "ipython3",
   "version": "3.9.13"
  }
 },
 "nbformat": 4,
 "nbformat_minor": 5
}
