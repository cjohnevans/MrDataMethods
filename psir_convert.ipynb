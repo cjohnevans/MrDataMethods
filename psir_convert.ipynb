{
 "cells": [
  {
   "cell_type": "code",
   "execution_count": null,
   "id": "0f0ede95",
   "metadata": {},
   "outputs": [],
   "source": [
    "#  notebook to run the phase sensitive ir recon.  This one runs out of memory too."
   ]
  },
  {
   "cell_type": "code",
   "execution_count": 3,
   "id": "3f57591b",
   "metadata": {},
   "outputs": [],
   "source": [
    "import sys\n",
    "import os\n",
    "sys.path.append('/home/john/code/PSIRprocSiemens/')\n",
    "import PSIRprocSiemens"
   ]
  },
  {
   "cell_type": "code",
   "execution_count": 4,
   "id": "52b69efd",
   "metadata": {},
   "outputs": [],
   "source": [
    "mag_dir = '/home/john/cubric/data/7TMPRAGE/22_10_28-11_18_31-DST-1_3_12_2_1107_5_2_34_18984/scans/44-MP2RAGE_UK7T_081018_tfl_wip944_b17stx_RR_UniformSens_MAG/resources/DICOM/files'\n",
    "phs_dir = '/home/john/cubric/data/7TMPRAGE/22_10_28-11_18_31-DST-1_3_12_2_1107_5_2_34_18984/scans/45-MP2RAGE_UK7T_081018_tfl_wip944_b17stx_RR_UniformSens_PHS/resources/DICOM/files'\n",
    "mag_fname = os.path.join(mag_dir, 'mag.nii.gz')\n",
    "phs_fname = os.path.join(phs_dir, 'phs.nii.gz')"
   ]
  },
  {
   "cell_type": "code",
   "execution_count": null,
   "id": "f2f42e0c",
   "metadata": {},
   "outputs": [],
   "source": [
    "PSIRprocSiemens.PSIRprocSiemens(mag_fname, phs_fname, '/home/john/psir')"
   ]
  },
  {
   "cell_type": "code",
   "execution_count": null,
   "id": "7c42ca98",
   "metadata": {},
   "outputs": [],
   "source": []
  }
 ],
 "metadata": {
  "kernelspec": {
   "display_name": "Python 3 (ipykernel)",
   "language": "python",
   "name": "python3"
  },
  "language_info": {
   "codemirror_mode": {
    "name": "ipython",
    "version": 3
   },
   "file_extension": ".py",
   "mimetype": "text/x-python",
   "name": "python",
   "nbconvert_exporter": "python",
   "pygments_lexer": "ipython3",
   "version": "3.10.6"
  }
 },
 "nbformat": 4,
 "nbformat_minor": 5
}
