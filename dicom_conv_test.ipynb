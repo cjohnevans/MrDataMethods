{
 "cells": [
  {
   "cell_type": "code",
   "execution_count": 1,
   "id": "0d29e8df-18ae-49ed-85d1-a573fee4a38e",
   "metadata": {},
   "outputs": [],
   "source": [
    "import dicom2nifti\n",
    "import nibabel as nb\n",
    "import os\n",
    "import matplotlib.pyplot as plt\n",
    "import numpy as np\n",
    "import sys\n",
    "sys.path.append('/home/john/code/PSIRprocSiemens/')\n",
    "import PSIRprocSiemens"
   ]
  },
  {
   "cell_type": "code",
   "execution_count": 2,
   "id": "6201b097",
   "metadata": {},
   "outputs": [],
   "source": [
    "#  use icometrix dicom2nifti to convert dicom to nifti"
   ]
  },
  {
   "cell_type": "code",
   "execution_count": 3,
   "id": "b66fef5b-f3b4-4492-bbef-86bb43b15113",
   "metadata": {},
   "outputs": [],
   "source": [
    "mag_dir = '/home/john/cubric/data/7TMPRAGE/22_10_28-11_18_31-DST-1_3_12_2_1107_5_2_34_18984/scans/44-MP2RAGE_UK7T_081018_tfl_wip944_b17stx_RR_UniformSens_MAG/resources/DICOM/files'\n",
    "phs_dir = '/home/john/cubric/data/7TMPRAGE/22_10_28-11_18_31-DST-1_3_12_2_1107_5_2_34_18984/scans/45-MP2RAGE_UK7T_081018_tfl_wip944_b17stx_RR_UniformSens_PHS/resources/DICOM/files'"
   ]
  },
  {
   "cell_type": "code",
   "execution_count": 4,
   "id": "aa5963f5-b49c-492d-b07a-a18308900935",
   "metadata": {},
   "outputs": [],
   "source": [
    "os.chdir(mag_dir)"
   ]
  },
  {
   "cell_type": "code",
   "execution_count": 5,
   "id": "fdfd8dc2-2399-4d48-9fc5-2ca8d883d362",
   "metadata": {},
   "outputs": [],
   "source": [
    "mag_fname = os.path.join(mag_dir, 'mag.nii.gz')\n",
    "phs_fname = os.path.join(phs_dir, 'phs.nii.gz')\n",
    "out_m = dicom2nifti.dicom_series_to_nifti(mag_dir, mag_fname, reorient_nifti=True)\n",
    "out_p = dicom2nifti.dicom_series_to_nifti(phs_dir, phs_fname,  reorient_nifti=True)"
   ]
  },
  {
   "cell_type": "code",
   "execution_count": 6,
   "id": "966a34ad-d500-4e36-bcac-f6696527aecf",
   "metadata": {},
   "outputs": [],
   "source": [
    "# out contains dict with file info\n",
    "mag_img = nb.load(out_m['NII_FILE'])"
   ]
  },
  {
   "cell_type": "code",
   "execution_count": 7,
   "id": "5665cf71-57c5-4a57-a8cb-7de37b26dfa6",
   "metadata": {},
   "outputs": [
    {
     "data": {
      "text/plain": [
       "nibabel.nifti1.Nifti1Image"
      ]
     },
     "execution_count": 7,
     "metadata": {},
     "output_type": "execute_result"
    }
   ],
   "source": [
    "type(mag_img)"
   ]
  },
  {
   "cell_type": "code",
   "execution_count": 8,
   "id": "e1cac6a2-4a1b-4670-bfd0-bbc2a005ede9",
   "metadata": {},
   "outputs": [
    {
     "name": "stdout",
     "output_type": "stream",
     "text": [
      "<class 'nibabel.nifti1.Nifti1Image'>\n",
      "data shape (224, 320, 320, 2)\n",
      "affine: \n",
      "[[  -0.69999999    0.            0.           78.05000305]\n",
      " [   0.            0.69999999    0.          -78.07589722]\n",
      " [  -0.           -0.            0.69999999 -124.79397583]\n",
      " [   0.            0.            0.            1.        ]]\n",
      "metadata:\n",
      "<class 'nibabel.nifti1.Nifti1Header'> object, endian='<'\n",
      "sizeof_hdr      : 348\n",
      "data_type       : b''\n",
      "db_name         : b''\n",
      "extents         : 0\n",
      "session_error   : 0\n",
      "regular         : b''\n",
      "dim_info        : 0\n",
      "dim             : [  4 224 320 320   2   1   1   1]\n",
      "intent_p1       : 0.0\n",
      "intent_p2       : 0.0\n",
      "intent_p3       : 0.0\n",
      "intent_code     : none\n",
      "datatype        : uint16\n",
      "bitpix          : 16\n",
      "slice_start     : 0\n",
      "pixdim          : [-1.   0.7  0.7  0.7  1.   1.   1.   1. ]\n",
      "vox_offset      : 0.0\n",
      "scl_slope       : nan\n",
      "scl_inter       : nan\n",
      "slice_end       : 0\n",
      "slice_code      : unknown\n",
      "xyzt_units      : 2\n",
      "cal_max         : 0.0\n",
      "cal_min         : 0.0\n",
      "slice_duration  : 0.0\n",
      "toffset         : 0.0\n",
      "glmax           : 0\n",
      "glmin           : 0\n",
      "descrip         : b''\n",
      "aux_file        : b''\n",
      "qform_code      : unknown\n",
      "sform_code      : aligned\n",
      "quatern_b       : 0.0\n",
      "quatern_c       : 1.0\n",
      "quatern_d       : 0.0\n",
      "qoffset_x       : 78.05\n",
      "qoffset_y       : -78.0759\n",
      "qoffset_z       : -124.793976\n",
      "srow_x          : [-0.7   0.    0.   78.05]\n",
      "srow_y          : [  0.       0.7      0.     -78.0759]\n",
      "srow_z          : [  -0.         -0.          0.7      -124.793976]\n",
      "intent_name     : b''\n",
      "magic           : b'n+1'\n"
     ]
    }
   ],
   "source": [
    "print(mag_img)"
   ]
  },
  {
   "cell_type": "code",
   "execution_count": null,
   "id": "2829496e-7394-47e2-8047-7eb13cbccc70",
   "metadata": {},
   "outputs": [],
   "source": [
    "mag_img_data = mag_img.get_fdata()"
   ]
  },
  {
   "cell_type": "code",
   "execution_count": null,
   "id": "f56bccf1-f79f-4534-926c-cad858c05be2",
   "metadata": {},
   "outputs": [],
   "source": [
    "mag_img_data.shape"
   ]
  },
  {
   "cell_type": "code",
   "execution_count": null,
   "id": "2b622312-4f58-4f73-8910-5a0bb12181e6",
   "metadata": {},
   "outputs": [],
   "source": [
    "plt.imshow(np.flipud(mag_img_data[110,:,:,1].T), cmap='Greys_r')"
   ]
  },
  {
   "cell_type": "code",
   "execution_count": null,
   "id": "48683120-3b6e-4b1b-b898-0e8a6d03a5c0",
   "metadata": {},
   "outputs": [],
   "source": [
    "%matplotlib notebook\n",
    "mag_img.orthoview()"
   ]
  },
  {
   "cell_type": "code",
   "execution_count": null,
   "id": "b9999518-7f55-4f97-8e72-dacb2d765be1",
   "metadata": {},
   "outputs": [],
   "source": [
    "#  attempt to do the PSIR recon of the MP2RAGE here too\n",
    "# not enough memory on betelgeuse"
   ]
  },
  {
   "cell_type": "code",
   "execution_count": null,
   "id": "c68138c2",
   "metadata": {},
   "outputs": [],
   "source": [
    "PSIRprocSiemens.PSIRprocSiemens(mag_fname, phs_fname, '/home/john/psir')"
   ]
  },
  {
   "cell_type": "code",
   "execution_count": null,
   "id": "da24bde0",
   "metadata": {},
   "outputs": [],
   "source": []
  }
 ],
 "metadata": {
  "kernelspec": {
   "display_name": "Python 3 (ipykernel)",
   "language": "python",
   "name": "python3"
  },
  "language_info": {
   "codemirror_mode": {
    "name": "ipython",
    "version": 3
   },
   "file_extension": ".py",
   "mimetype": "text/x-python",
   "name": "python",
   "nbconvert_exporter": "python",
   "pygments_lexer": "ipython3",
   "version": "3.10.6"
  }
 },
 "nbformat": 4,
 "nbformat_minor": 5
}
